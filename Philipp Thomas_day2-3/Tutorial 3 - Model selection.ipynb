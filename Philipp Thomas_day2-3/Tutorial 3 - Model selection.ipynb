{
 "cells": [
  {
   "cell_type": "markdown",
   "id": "f6e71006",
   "metadata": {},
   "source": [
    "# Tutorial 3: Model selection "
   ]
  },
  {
   "cell_type": "markdown",
   "id": "d28c1929",
   "metadata": {},
   "source": [
    "## Header"
   ]
  },
  {
   "cell_type": "code",
   "execution_count": null,
   "id": "63db2a0e",
   "metadata": {},
   "outputs": [],
   "source": [
    "import numpy as np\n",
    "import pandas as pd\n",
    "import scipy.special as sc\n",
    "import matplotlib.pyplot as plt\n",
    "from scipy.stats import gamma \n",
    "from scipy.stats import poisson\n",
    "from scipy.stats import beta"
   ]
  },
  {
   "cell_type": "markdown",
   "id": "fcc28568",
   "metadata": {},
   "source": [
    "## Task 1: Likelihood-based model selection using AIC"
   ]
  },
  {
   "cell_type": "markdown",
   "id": "d133e9ba",
   "metadata": {},
   "source": [
    "# 1.1 \n",
    "\n",
    "Compare the distributions of the telegraph model $(k_1=10, k_{on}=k_{off}=1)$ to a Poisson distribution of comparable mean."
   ]
  },
  {
   "cell_type": "code",
   "execution_count": null,
   "id": "d06f1791",
   "metadata": {},
   "outputs": [],
   "source": [
    "def telegraphProbability(m,ktx=10,kon=1,koff=1):\n",
    "  return sc.gamma(kon + m)/ sc.gamma(m + 1) / sc.gamma(kon + koff + m) * sc.gamma(kon+koff)/sc.gamma(kon)  * ktx**m * sc.hyp1f1(kon + m, kon+koff +  m, - ktx)"
   ]
  },
  {
   "cell_type": "code",
   "execution_count": null,
   "id": "f3eba089",
   "metadata": {},
   "outputs": [],
   "source": [
    "pdfBP=np.array([[x,telegraphProbability(x)] for x in range(0,20)])\n",
    "pdfPoisson= # <== fill in HERE\n",
    "plt.plot(pdfBP[:,0],pdfBP[:,1])\n",
    "plt.plot(pdfPoisson[:,0],pdfPoisson[:,1])\n",
    "plt.xlabel(\"mRNA number\")"
   ]
  },
  {
   "cell_type": "markdown",
   "id": "900f015e",
   "metadata": {},
   "source": [
    "## 1.2 \n",
    "\n",
    "Draw 100 samples (cells) from the telegraph model and evaluate the AIC of Poisson and telegraph models. The model with the low AIC should be selected to best describe the data. Repeat for sample sizes 10, 100, 200 and 300, and visualise the result."
   ]
  },
  {
   "cell_type": "code",
   "execution_count": null,
   "id": "cdf36ddc",
   "metadata": {},
   "outputs": [],
   "source": [
    "def telegraphSampler(N=100, ktx=10, kon=1, koff=1) :\n",
    "    return [... for _ in range(N)] # <== fill in HERE\n",
    "\n",
    "def modelSelection(N=100):\n",
    "    dat1 = telegraphSampler(N)\n",
    "    AICp = 2 - sum( np.log(...) ) # <== fill in HERE\n",
    "    AICbp = 2*3 - sum([np.log(telegraphProbability(x)) for x in dat1])\n",
    "    return [N,AICp, AICbp]"
   ]
  },
  {
   "cell_type": "code",
   "execution_count": null,
   "id": "4f285672",
   "metadata": {},
   "outputs": [],
   "source": [
    "# <== produce a plot HERE"
   ]
  },
  {
   "cell_type": "markdown",
   "id": "24018275",
   "metadata": {},
   "source": [
    "## Task 2: ABC model selection"
   ]
  },
  {
   "cell_type": "markdown",
   "id": "169d4928",
   "metadata": {},
   "source": [
    "## 2.1 \n",
    "\n",
    "Implement samplers for the Poisson model with parameter distribution $\\Gamma(1,1)$ and the telegraph model with $k_1 \\sim \\Gamma(1,1)$"
   ]
  },
  {
   "cell_type": "code",
   "execution_count": null,
   "id": "df742f2c",
   "metadata": {},
   "outputs": [],
   "source": [
    "def poissonsampler(N=100):\n",
    "    p = gamma.rvs(1, scale=5)\n",
    "    return [np.mean(poisson.rvs(p, size=N)),np.std(poisson.rvs(p, size=N))]\n",
    "                                                                               \n",
    "def telegraphsampler(N=100) :\n",
    "    ktx  = gamma.rvs(1, scale=10)\n",
    "    kon  = gamma.rvs(1, scale=1)\n",
    "    koff = gamma.rvs(1, scale=1)\n",
    "    data = [poisson.rvs(ktx*beta.rvs(kon,koff)) for _ in range(N)]\n",
    "\n",
    "    return [np.mean(data), np.std(data)]"
   ]
  },
  {
   "cell_type": "markdown",
   "id": "bd15e3a7",
   "metadata": {},
   "source": [
    "## 2.2 \n",
    "\n",
    "Generate ABC training sets for Poisson and telegraph models of comparable sizes. "
   ]
  },
  {
   "cell_type": "code",
   "execution_count": null,
   "id": "176a5eb2",
   "metadata": {},
   "outputs": [],
   "source": [
    "N=1000\n",
    "NTrain=3000\n",
    "dfTrain1=pd.DataFrame(data=[poissonsampler(N) for _ in range(NTrain)])\n",
    "dfTrain2= # <== fill in HERE"
   ]
  },
  {
   "cell_type": "markdown",
   "id": "21e431bf",
   "metadata": {},
   "source": [
    "## 2.3\n",
    "\n",
    "Generate test sets for the telegraph model $(k_1=10, k_{on}=k_{off}=1)$ and the Poisson model of comparable mean. Compute the approximate model posterior assuming a flat prior over models and comment on the result."
   ]
  },
  {
   "cell_type": "code",
   "execution_count": null,
   "id": "5b7efddb",
   "metadata": {},
   "outputs": [],
   "source": [
    " # this function returns the number of accepted samples standard distance function\n",
    "def selection(dfTrain,test):\n",
    "    m, st = test\n",
    "    error = (dfTrain[0]-m)**2 + (dfTrain[1]-st)**2 \n",
    "    return len(error[error < 0.1])"
   ]
  },
  {
   "cell_type": "code",
   "execution_count": null,
   "id": "944591b0",
   "metadata": {},
   "outputs": [],
   "source": [
    "data = [poisson.rvs(5) for _ in range(N)]\n",
    "test = [np.mean(data), np.std(data)]\n",
    "prob=  # <== fill in HERE"
   ]
  },
  {
   "cell_type": "code",
   "execution_count": null,
   "id": "8620cc43",
   "metadata": {},
   "outputs": [],
   "source": [
    "data = [poisson.rvs(10*beta.rvs(1,1)) for _ in range(N)]\n",
    "test = [np.mean(data), np.std(data)]\n",
    "prob=  # <== fill in HERE"
   ]
  },
  {
   "cell_type": "code",
   "execution_count": null,
   "id": "377f1df5",
   "metadata": {},
   "outputs": [],
   "source": []
  }
 ],
 "metadata": {
  "kernelspec": {
   "display_name": "Python 3 (ipykernel)",
   "language": "python",
   "name": "python3"
  },
  "language_info": {
   "codemirror_mode": {
    "name": "ipython",
    "version": 3
   },
   "file_extension": ".py",
   "mimetype": "text/x-python",
   "name": "python",
   "nbconvert_exporter": "python",
   "pygments_lexer": "ipython3",
   "version": "3.10.12"
  }
 },
 "nbformat": 4,
 "nbformat_minor": 5
}
