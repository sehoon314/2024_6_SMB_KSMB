{
 "cells": [
  {
   "cell_type": "markdown",
   "id": "416da7d0",
   "metadata": {},
   "source": [
    "# Tutorial 2: Approximate Bayesian Computation"
   ]
  },
  {
   "cell_type": "markdown",
   "id": "d812b452",
   "metadata": {},
   "source": [
    "## Header"
   ]
  },
  {
   "cell_type": "code",
   "execution_count": 1,
   "id": "cc0b263a",
   "metadata": {},
   "outputs": [],
   "source": [
    "import pandas as pd\n",
    "import numpy as np\n",
    "import matplotlib.pyplot as plt\n",
    "from scipy.stats import gamma \n",
    "from scipy.stats import poisson\n",
    "from scipy.stats import beta"
   ]
  },
  {
   "cell_type": "markdown",
   "id": "2ce7fee9",
   "metadata": {},
   "source": [
    "## TASK 1: Inference using the Poisson model"
   ]
  },
  {
   "cell_type": "markdown",
   "id": "679c5e68",
   "metadata": {},
   "source": [
    "### 1.1 \n",
    "\n",
    "Create a training set for ABC by sampling a Poisson random variable with $Gamma(1,1)$ prior. Use mean and standard deviation as summary statistics."
   ]
  },
  {
   "cell_type": "code",
   "execution_count": 4,
   "id": "bddd5eae",
   "metadata": {},
   "outputs": [
    {
     "ename": "SyntaxError",
     "evalue": "invalid syntax (423309848.py, line 3)",
     "output_type": "error",
     "traceback": [
      "\u001b[0;36m  Cell \u001b[0;32mIn[4], line 3\u001b[0;36m\u001b[0m\n\u001b[0;31m    dfTrain= pd.DataFrame(data=[[p,np.mean(poisson.rvs(p, size=N)),np.std(poisson.rvs(p size=N))] for p in [gamma.rvs(1,1)]]) # <== fill in HERE\u001b[0m\n\u001b[0m                                                                                        ^\u001b[0m\n\u001b[0;31mSyntaxError\u001b[0m\u001b[0;31m:\u001b[0m invalid syntax\n"
     ]
    }
   ],
   "source": [
    "N=100\n",
    "NP=3000\n",
    "dfTrain=pd.DataFrame(data=[[p,np.mean(poisson.rvs(p, size=N)),np.std(poisson.rvs(p size=N))] for p in [gamma.rvs(1,scale=1) for ]]) # <== fill in HERE"
   ]
  },
  {
   "cell_type": "markdown",
   "id": "85968b8a",
   "metadata": {},
   "source": [
    "### 1.2 \n",
    "\n",
    "Create a test set and evaluate ABC performance using the best sample (MAP). Compare your result to the maximum likelihood estimator."
   ]
  },
  {
   "cell_type": "code",
   "execution_count": 3,
   "id": "2e5de412",
   "metadata": {},
   "outputs": [],
   "source": [
    "NTest=100\n",
    "dfTest=pd.DataFrame(data=[[p,np.mean(poisson.rvs(p, size=N)),np.std(poisson.rvs(p, size=N))] for p in [gamma.rvs(1, scale=1) for _ in range(NTest)]])"
   ]
  },
  {
   "cell_type": "code",
   "execution_count": null,
   "id": "b6ca4e8b",
   "metadata": {},
   "outputs": [],
   "source": [
    "idx = [(np.abs(dfTrain[1]- m)**2 + np.abs(dfTrain[2]- s)**2).argmin() for m,s in zip(dfTest[1],dfTest[2])] \n",
    "df_temp = pd.DataFrame({'test' : dfTest[0] , \n",
    "                        'ABC' : np.array((dfTrain.loc[dfTrain.index[idx]])[0]) ,\n",
    "                        'mle' : ...}) # <== fill in HERE"
   ]
  },
  {
   "cell_type": "code",
   "execution_count": null,
   "id": "c20d7c47",
   "metadata": {},
   "outputs": [],
   "source": [
    "df_temp = df_temp.head(30)\n",
    "df_temp.plot(kind='bar',figsize=(10,6))\n",
    "plt.xlabel(\"test sample\")\n",
    "plt.xlabel(\"parameter\")\n",
    "plt.show()"
   ]
  },
  {
   "cell_type": "markdown",
   "id": "cb48ea58",
   "metadata": {},
   "source": [
    "### 1.3 \n",
    "\n",
    "Plot the distribution of the residuals of best ABC sample and MLE estimate and comment on the mean squared error"
   ]
  },
  {
   "cell_type": "code",
   "execution_count": null,
   "id": "9c0daf9e",
   "metadata": {},
   "outputs": [],
   "source": [
    "plt.hist(...),label=\"ABC\") # <== fill in HERE\n",
    "plt.hist(...),label=\"MLE\") # <== fill in HERE\n",
    "plt.xlabel(\"residuals\")\n",
    "plt.legend()"
   ]
  },
  {
   "cell_type": "markdown",
   "id": "51bf9b41",
   "metadata": {},
   "source": [
    "## 1.4 \n",
    "\n",
    "Compare ABC posterior against the exact Bayesian posterior for a random variable with unit mean. Use different tolerances ($\\epsilon$) and interpret the result."
   ]
  },
  {
   "cell_type": "code",
   "execution_count": null,
   "id": "f8a2c5a7",
   "metadata": {},
   "outputs": [],
   "source": [
    "data = [np.mean(poisson.rvs(1, size=N)),np.std(poisson.rvs(1, size=N))]\n",
    "error = np.abs(dfTrain[[1,2]]- data).sum(axis=1)"
   ]
  },
  {
   "cell_type": "code",
   "execution_count": null,
   "id": "6582b1be",
   "metadata": {},
   "outputs": [],
   "source": [
    "def posterior(alpha,beta,N):\n",
    "    return # <== fill in HERE"
   ]
  },
  {
   "cell_type": "code",
   "execution_count": null,
   "id": "379ee4cd",
   "metadata": {},
   "outputs": [],
   "source": [
    "x=np.arange(0.5,1.5,0.01)\n",
    "plt.plot(x,posterior(1,1,N), label='exact')\n",
    "plt.hist(dfTrain[0][error < 0.5], density=True, label='epsilon  = 0.5')\n",
    "plt.hist(dfTrain[0][error < 0.1], density=True, label='epsilon  = 0.1')\n",
    "plt.title(\"posterior density\")\n",
    "plt.xlabel(\"parameter\")\n",
    "plt.legend()"
   ]
  },
  {
   "cell_type": "markdown",
   "id": "ef6fb244",
   "metadata": {},
   "source": [
    "### TASK 2: Repeat the analysis for the telegraph process\n",
    "\n",
    "## 2.1 \n",
    "\n",
    "Sample mean and standard deviation of the telegraph model under the parameter distribution:\n",
    "\n",
    "$$ k_1 \\sim \\Gamma(1,1), k_{on} \\sim \\Gamma(1,1), k_{off}=\\Gamma(1,1)  $$\n",
    "\n",
    "Use 3,000 parameters (genes) and 100 samples (cells) as a training set for ABC. Evaluate the performance on a smaller training set showing true vs predicted parameters.\n"
   ]
  },
  {
   "cell_type": "code",
   "execution_count": null,
   "id": "920bc648",
   "metadata": {},
   "outputs": [],
   "source": [
    "def telegraphsampler(N=100) :\n",
    "    ktx  = gamma.rvs(1, scale=1)\n",
    "    kon  = gamma.rvs(1, scale=1)\n",
    "    koff = gamma.rvs(1, scale=1)\n",
    "    data = [poisson.rvs(ktx*beta.rvs(kon,koff)) for _ in range(N)]\n",
    "\n",
    "    return [kon, ktx/koff, np.mean(data), np.std(data)]\n"
   ]
  },
  {
   "cell_type": "code",
   "execution_count": null,
   "id": "35be2518",
   "metadata": {},
   "outputs": [],
   "source": [
    "# ABC training and test data\n",
    "N=100\n",
    "NTrain=3000\n",
    "dfTrain= pd.DataFrame(data=[telegraphsampler(N) for _ in range(NTrain)])\n",
    "NTest=100\n",
    "dfTest= # <== fill in HERE"
   ]
  },
  {
   "cell_type": "code",
   "execution_count": null,
   "id": "72a6a036",
   "metadata": {},
   "outputs": [],
   "source": [
    "idx = [(np.abs(dfTrain[1]- m)**2 + np.abs(dfTrain[2]- s)**2).argmin() for m,s in zip(dfTest[1],dfTest[2])] \n",
    "pred=dfTrain[[0,1]].loc[dfTrain.index[idx]]"
   ]
  },
  {
   "cell_type": "code",
   "execution_count": null,
   "id": "53899bcf",
   "metadata": {},
   "outputs": [],
   "source": [
    "# <== produce plot of predicted vs true parameters"
   ]
  },
  {
   "cell_type": "code",
   "execution_count": null,
   "id": "95161db3",
   "metadata": {},
   "outputs": [],
   "source": []
  }
 ],
 "metadata": {
  "kernelspec": {
   "display_name": "Python 3 (ipykernel)",
   "language": "python",
   "name": "python3"
  },
  "language_info": {
   "codemirror_mode": {
    "name": "ipython",
    "version": 3
   },
   "file_extension": ".py",
   "mimetype": "text/x-python",
   "name": "python",
   "nbconvert_exporter": "python",
   "pygments_lexer": "ipython3",
   "version": "3.9.6"
  }
 },
 "nbformat": 4,
 "nbformat_minor": 5
}
